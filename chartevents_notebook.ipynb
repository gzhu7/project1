{
 "cells": [
  {
   "cell_type": "code",
   "execution_count": null,
   "metadata": {},
   "outputs": [
    {
     "name": "stderr",
     "output_type": "stream",
     "text": [
      "/anaconda3/lib/python3.6/site-packages/IPython/core/interactiveshell.py:3018: DtypeWarning: Columns (8,10,13,14) have mixed types. Specify dtype option on import or set low_memory=False.\n",
      "  interactivity=interactivity, compiler=compiler, result=result)\n"
     ]
    }
   ],
   "source": [
    "import pandas as pd\n",
    "import numpy as np\n",
    "from matplotlib import pyplot as plt\n",
    "from collections import defaultdict\n",
    "\n",
    "stats = pd.read_csv('CHARTEVENTS.csv')\n",
    "stats = stats.drop(columns = ['ROW_ID', 'ICUSTAY_ID', 'STORETIME', 'CGID', 'WARNING', 'ERROR',\n",
    "                              'RESULTSTATUS', 'STOPPED'])\n",
    "stats = stats.dropna(axis=0)\n",
    "items = pd.read_csv('D_ITEMS.csv')\n",
    "items = items[['ITEMID', 'LABEL']]\n",
    "chart = pd.merge(stats, items, on='ITEMID', how='inner')\n",
    "new_data = pd.get_dummies(chart, columns=['LABEL'])\n",
    "\n",
    "new_data.columns = new_data.columns.str.replace(' ', '_')\n",
    "new_data.rename(columns={'LABEL_Heart_Rate':'heart_rate','LABEL_Non_Invasive_Blood_Pressure_systolic':'systolic',\n",
    "                        'LABEL_Non_Invasive_Blood_Pressure_diastolic':'diastolic',\n",
    "                        'LABEL_O2_saturation_pulseoxymetry':'SpO2', 'LABEL_Respiratory_Rate_(Set)':'RR',\n",
    "                        'LABEL_Temperature_Fahrenheit':'temp_f', 'LABEL_Temperature_Celsius':'temp_c'}, inplace=True)\n",
    "chart = new_data[['SUBJECT_ID','HADM_ID','ITEMID','CHARTTIME','VALUE','VALUENUM','VALUEUOM','heart_rate','systolic','diastolic','SpO2','RR','temp_f','temp_c']]\n",
    "\n",
    "pd.options.mode.chained_assignment = None\n",
    "chart.heart_rate.astype(int)\n",
    "#type(chart.heart_rate[3] * chart.VALUE[3])\n",
    "#type(chart.heart_rate[3])\n",
    "#type(chart.heart_rate)\n",
    "chart['HEART_RATE'] = chart.heart_rate * chart.VALUENUM\n",
    "chart['SYSTOLIC'] = chart.systolic * chart.VALUENUM\n",
    "chart['DIASTOLIC'] = chart.diastolic * chart.VALUENUM\n",
    "chart['SPO2'] = chart.SpO2 * chart.VALUENUM\n",
    "chart['RES_PRATE'] = chart.RR * chart.VALUENUM\n",
    "chart['temp_f_tell'] = chart.temp_c.replace({0:np.nan})\n",
    "#chart.temp_c.apply(lambda x: (1 if x == 1 else ))\n",
    "chart['temp_f_con'] = (chart.temp_f_tell * 2.8) + 32\n",
    "chart['TEMP'] = (chart.temp_f * chart.VALUENUM) + (chart.temp_f_con)\n",
    "chart['TEMPERATURE'] = chart.TEMP.replace({np.nan:0})\n",
    "chart = chart.drop(columns = ['SUBJECT_ID','VALUE','VALUENUM','heart_rate','systolic','diastolic','SpO2','RR','temp_f','temp_c','temp_f_tell','temp_f_con','TEMP'])\n",
    "chart = chart.replace(0,np.nan)\n",
    "chart = chart.dropna(axis=0,thresh=2)\n",
    "chart = chart.set_index('HADM_ID')\n",
    "chart.head(50)"
   ]
  },
  {
   "cell_type": "code",
   "execution_count": null,
   "metadata": {},
   "outputs": [],
   "source": [
    "# used to check labels in LABELS\n",
    "#d = defaultdict(int)\n",
    "#for i in chart.LABEL:\n",
    "#    d[i] += 1\n",
    "#d"
   ]
  }
 ],
 "metadata": {
  "kernelspec": {
   "display_name": "Python 3",
   "language": "python",
   "name": "python3"
  },
  "language_info": {
   "codemirror_mode": {
    "name": "ipython",
    "version": 3
   },
   "file_extension": ".py",
   "mimetype": "text/x-python",
   "name": "python",
   "nbconvert_exporter": "python",
   "pygments_lexer": "ipython3",
   "version": "3.6.6"
  }
 },
 "nbformat": 4,
 "nbformat_minor": 2
}
